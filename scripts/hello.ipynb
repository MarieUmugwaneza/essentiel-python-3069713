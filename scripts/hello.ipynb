print("Hello world" !) #Affichage de texte
